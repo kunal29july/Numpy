{
  "nbformat": 4,
  "nbformat_minor": 0,
  "metadata": {
    "kernelspec": {
      "display_name": "Python 3",
      "language": "python",
      "name": "python3"
    },
    "language_info": {
      "codemirror_mode": {
        "name": "ipython",
        "version": 3
      },
      "file_extension": ".py",
      "mimetype": "text/x-python",
      "name": "python",
      "nbconvert_exporter": "python",
      "pygments_lexer": "ipython3",
      "version": "3.7.0"
    },
    "colab": {
      "name": "NumPy_assign_5.ipynb",
      "provenance": [],
      "include_colab_link": true
    }
  },
  "cells": [
    {
      "cell_type": "markdown",
      "metadata": {
        "id": "view-in-github",
        "colab_type": "text"
      },
      "source": [
        "<a href=\"https://colab.research.google.com/github/kunal29july/Numpy/blob/main/NumPy_assign_5.ipynb\" target=\"_parent\"><img src=\"https://colab.research.google.com/assets/colab-badge.svg\" alt=\"Open In Colab\"/></a>"
      ]
    },
    {
      "cell_type": "markdown",
      "metadata": {
        "id": "7nn7Nr10P247"
      },
      "source": [
        "# Creating NumPy Arrays \n",
        "\n",
        "There are multiple ways to create numpy arrays, the most commmon ones being:\n",
        "* Convert lists or tuples to arrays using ```np.array()```\n",
        "* Initialise arrays of fixed size (when the size is known) "
      ]
    },
    {
      "cell_type": "markdown",
      "metadata": {
        "id": "PSl80F19P25N"
      },
      "source": [
        "The following ways are commonly used:\n",
        "* ```np.ones()```: Create array of 1s\n",
        "* ```np.zeros()```: Create array of 0s\n",
        "* ```np.arange()```: Create array with increments of a fixed step size\n",
        "* ```np.linspace()```: Create array of fixed length"
      ]
    },
    {
      "cell_type": "code",
      "metadata": {
        "id": "XaJAd-7fP25O"
      },
      "source": [
        "# importing the NumPy library\n",
        "\n",
        "import numpy as np"
      ],
      "execution_count": 1,
      "outputs": []
    },
    {
      "cell_type": "code",
      "metadata": {
        "colab": {
          "base_uri": "https://localhost:8080/"
        },
        "id": "BD8AIM_LQsNS",
        "outputId": "a7a5cc71-f0e1-4b31-f8cf-257623aeacc8"
      },
      "source": [
        "np_1 = np.arange(1,6)\n",
        "np_1\n"
      ],
      "execution_count": 12,
      "outputs": [
        {
          "output_type": "execute_result",
          "data": {
            "text/plain": [
              "array([1, 2, 3, 4, 5])"
            ]
          },
          "metadata": {
            "tags": []
          },
          "execution_count": 12
        }
      ]
    },
    {
      "cell_type": "code",
      "metadata": {
        "colab": {
          "base_uri": "https://localhost:8080/"
        },
        "id": "pVd8b9tDP25P",
        "outputId": "d7a85a42-67c6-4324-ff4f-0c395f276987"
      },
      "source": [
        "# creating an array of zeroes with 5 elements\n",
        "np_2 = np.zeros(5)\n",
        "np_2"
      ],
      "execution_count": 8,
      "outputs": [
        {
          "output_type": "execute_result",
          "data": {
            "text/plain": [
              "array([0., 0., 0., 0., 0.])"
            ]
          },
          "metadata": {
            "tags": []
          },
          "execution_count": 8
        }
      ]
    },
    {
      "cell_type": "code",
      "metadata": {
        "colab": {
          "base_uri": "https://localhost:8080/"
        },
        "id": "EbwqShRvQ1uF",
        "outputId": "c8738d1d-dc1c-4046-b06c-53f75266b2b8"
      },
      "source": [
        "np_2=np.zeros(5,dtype=\"int\")\n",
        "np_2"
      ],
      "execution_count": 10,
      "outputs": [
        {
          "output_type": "execute_result",
          "data": {
            "text/plain": [
              "array([0, 0, 0, 0, 0])"
            ]
          },
          "metadata": {
            "tags": []
          },
          "execution_count": 10
        }
      ]
    },
    {
      "cell_type": "code",
      "metadata": {
        "colab": {
          "base_uri": "https://localhost:8080/"
        },
        "id": "Gbrvg3YcP25R",
        "outputId": "2106d8bb-32fd-4681-a4e0-c589573d20d0"
      },
      "source": [
        "# adding the two arrays: np_1 and np_2\n",
        "print(np_1 + np_2)"
      ],
      "execution_count": 13,
      "outputs": [
        {
          "output_type": "stream",
          "text": [
            "[1 2 3 4 5]\n"
          ],
          "name": "stdout"
        }
      ]
    },
    {
      "cell_type": "code",
      "metadata": {
        "colab": {
          "base_uri": "https://localhost:8080/"
        },
        "id": "Nt8NG67QP25R",
        "outputId": "57fbec96-bf2f-4f95-f842-bf7afd058ca1"
      },
      "source": [
        "# check the dimension of the arrays\n",
        "# array np_1\n",
        "np_1.ndim"
      ],
      "execution_count": 14,
      "outputs": [
        {
          "output_type": "execute_result",
          "data": {
            "text/plain": [
              "1"
            ]
          },
          "metadata": {
            "tags": []
          },
          "execution_count": 14
        }
      ]
    },
    {
      "cell_type": "code",
      "metadata": {
        "colab": {
          "base_uri": "https://localhost:8080/"
        },
        "id": "CJseIEQxP25S",
        "outputId": "ece8195e-577d-43fd-ca49-a0090afb6563"
      },
      "source": [
        "# check the dimension of the arrays\n",
        "np_2.ndim\n"
      ],
      "execution_count": 15,
      "outputs": [
        {
          "output_type": "execute_result",
          "data": {
            "text/plain": [
              "1"
            ]
          },
          "metadata": {
            "tags": []
          },
          "execution_count": 15
        }
      ]
    },
    {
      "cell_type": "code",
      "metadata": {
        "colab": {
          "base_uri": "https://localhost:8080/"
        },
        "id": "jt-NCSDcP25S",
        "outputId": "a7533e5f-734d-44c4-cd69-d1cea8f6be95"
      },
      "source": [
        "# creating a third array with all the 5 elements as ones\n",
        "\n",
        "np_3 = np.ones(5)\n",
        "\n",
        "# checking the created array:np_3\n",
        "print(np_3)"
      ],
      "execution_count": 16,
      "outputs": [
        {
          "output_type": "stream",
          "text": [
            "[1. 1. 1. 1. 1.]\n"
          ],
          "name": "stdout"
        }
      ]
    },
    {
      "cell_type": "code",
      "metadata": {
        "colab": {
          "base_uri": "https://localhost:8080/"
        },
        "id": "1aO1FNT9P25T",
        "outputId": "629deb15-4e9a-421d-a16f-455524cff4a4"
      },
      "source": [
        "# subtracting the array np_3 from array np_2\n",
        "\n",
        "print(np_2 - np_3)"
      ],
      "execution_count": 17,
      "outputs": [
        {
          "output_type": "stream",
          "text": [
            "[-1. -1. -1. -1. -1.]\n"
          ],
          "name": "stdout"
        }
      ]
    },
    {
      "cell_type": "code",
      "metadata": {
        "colab": {
          "base_uri": "https://localhost:8080/"
        },
        "id": "lY3nAz20P25T",
        "outputId": "3cd86230-9674-413b-89e7-f7ebf5ee6c4c"
      },
      "source": [
        "# creating an array of fixed length\n",
        "np_4 = np.linspace(1,10,5)\n",
        "\n",
        "# checking the created array:np_4\n",
        "print(np_4)"
      ],
      "execution_count": 24,
      "outputs": [
        {
          "output_type": "stream",
          "text": [
            "[ 1.    3.25  5.5   7.75 10.  ]\n"
          ],
          "name": "stdout"
        }
      ]
    },
    {
      "cell_type": "code",
      "metadata": {
        "colab": {
          "base_uri": "https://localhost:8080/"
        },
        "id": "btadGm3PP25T",
        "outputId": "db750328-6154-410c-d0d0-9937d7c0236b"
      },
      "source": [
        "# squaring the terms of np_1\n",
        "np.power(np_1,2)"
      ],
      "execution_count": 25,
      "outputs": [
        {
          "output_type": "execute_result",
          "data": {
            "text/plain": [
              "array([ 1,  4,  9, 16, 25])"
            ]
          },
          "metadata": {
            "tags": []
          },
          "execution_count": 25
        }
      ]
    },
    {
      "cell_type": "code",
      "metadata": {
        "colab": {
          "base_uri": "https://localhost:8080/"
        },
        "id": "K7cToQYWP25U",
        "outputId": "0a35f1e1-f19c-4376-ff2e-665d67790e39"
      },
      "source": [
        "# getting the absolute value of the elements\n",
        "x=[-1,-2,-3]\n",
        "np.absolute(x)"
      ],
      "execution_count": 26,
      "outputs": [
        {
          "output_type": "execute_result",
          "data": {
            "text/plain": [
              "array([1, 2, 3])"
            ]
          },
          "metadata": {
            "tags": []
          },
          "execution_count": 26
        }
      ]
    },
    {
      "cell_type": "code",
      "metadata": {
        "colab": {
          "base_uri": "https://localhost:8080/"
        },
        "id": "UidQnEU3P25U",
        "outputId": "750ca6db-65e8-47c8-9945-55f71d938399"
      },
      "source": [
        "# np.sin()\n",
        "np.sin(x)\n"
      ],
      "execution_count": 27,
      "outputs": [
        {
          "output_type": "execute_result",
          "data": {
            "text/plain": [
              "array([-0.84147098, -0.90929743, -0.14112001])"
            ]
          },
          "metadata": {
            "tags": []
          },
          "execution_count": 27
        }
      ]
    },
    {
      "cell_type": "code",
      "metadata": {
        "colab": {
          "base_uri": "https://localhost:8080/"
        },
        "id": "uFDcOl5mpmAl",
        "outputId": "2720e127-4299-4aff-8f1d-a81ccb7a00b4"
      },
      "source": [
        " np.cos(x)"
      ],
      "execution_count": 28,
      "outputs": [
        {
          "output_type": "execute_result",
          "data": {
            "text/plain": [
              "array([ 0.54030231, -0.41614684, -0.9899925 ])"
            ]
          },
          "metadata": {
            "tags": []
          },
          "execution_count": 28
        }
      ]
    },
    {
      "cell_type": "code",
      "metadata": {
        "colab": {
          "base_uri": "https://localhost:8080/"
        },
        "id": "W1x4xctYP25U",
        "outputId": "f5a2309e-0ee0-417d-95a1-d0b0349c18d6"
      },
      "source": [
        "# np.log()\n",
        "np.log(16)"
      ],
      "execution_count": 31,
      "outputs": [
        {
          "output_type": "execute_result",
          "data": {
            "text/plain": [
              "2.772588722239781"
            ]
          },
          "metadata": {
            "tags": []
          },
          "execution_count": 31
        }
      ]
    },
    {
      "cell_type": "markdown",
      "metadata": {
        "id": "ZE9seg8IP25V"
      },
      "source": [
        "### Empty arrays"
      ]
    },
    {
      "cell_type": "code",
      "metadata": {
        "id": "k8-yYaIlP25V"
      },
      "source": [
        "# Creating empty arrays\n",
        "\n",
        "x = np.arange(1, 6)\n",
        "y = \n",
        "\n",
        "# filling the empty array\n"
      ],
      "execution_count": null,
      "outputs": []
    },
    {
      "cell_type": "code",
      "metadata": {
        "id": "4c_if14qP25V"
      },
      "source": [
        "# printing the output obtained above\n",
        "y"
      ],
      "execution_count": null,
      "outputs": []
    },
    {
      "cell_type": "code",
      "metadata": {
        "id": "VfNRBjHXP25W"
      },
      "source": [
        ""
      ],
      "execution_count": null,
      "outputs": []
    },
    {
      "cell_type": "code",
      "metadata": {
        "id": "mxNoAIyHP25W"
      },
      "source": [
        ""
      ],
      "execution_count": null,
      "outputs": []
    },
    {
      "cell_type": "markdown",
      "metadata": {
        "id": "nV83bs_3P25W"
      },
      "source": [
        "### Aggregation of array elements"
      ]
    },
    {
      "cell_type": "code",
      "metadata": {
        "id": "urRd1PllP25X"
      },
      "source": [
        "# Reducing the elements to a single value based on addition\n"
      ],
      "execution_count": null,
      "outputs": []
    },
    {
      "cell_type": "code",
      "metadata": {
        "id": "3jCOVNVSP25X"
      },
      "source": [
        "# Cummulative addition of elements at each element\n"
      ],
      "execution_count": null,
      "outputs": []
    },
    {
      "cell_type": "code",
      "metadata": {
        "id": "8TPsMKAJP25X"
      },
      "source": [
        "np.linalg"
      ],
      "execution_count": null,
      "outputs": []
    },
    {
      "cell_type": "code",
      "metadata": {
        "id": "oXSObd0EP25X",
        "outputId": "d50c529a-c5ad-4ee9-e7a2-cd73810e7ddc"
      },
      "source": [
        "help(np.linalg)"
      ],
      "execution_count": null,
      "outputs": [
        {
          "output_type": "stream",
          "text": [
            "Help on package numpy.linalg in numpy:\n",
            "\n",
            "NAME\n",
            "    numpy.linalg\n",
            "\n",
            "DESCRIPTION\n",
            "    Core Linear Algebra Tools\n",
            "    -------------------------\n",
            "    Linear algebra basics:\n",
            "    \n",
            "    - norm            Vector or matrix norm\n",
            "    - inv             Inverse of a square matrix\n",
            "    - solve           Solve a linear system of equations\n",
            "    - det             Determinant of a square matrix\n",
            "    - lstsq           Solve linear least-squares problem\n",
            "    - pinv            Pseudo-inverse (Moore-Penrose) calculated using a singular\n",
            "                      value decomposition\n",
            "    - matrix_power    Integer power of a square matrix\n",
            "    \n",
            "    Eigenvalues and decompositions:\n",
            "    \n",
            "    - eig             Eigenvalues and vectors of a square matrix\n",
            "    - eigh            Eigenvalues and eigenvectors of a Hermitian matrix\n",
            "    - eigvals         Eigenvalues of a square matrix\n",
            "    - eigvalsh        Eigenvalues of a Hermitian matrix\n",
            "    - qr              QR decomposition of a matrix\n",
            "    - svd             Singular value decomposition of a matrix\n",
            "    - cholesky        Cholesky decomposition of a matrix\n",
            "    \n",
            "    Tensor operations:\n",
            "    \n",
            "    - tensorsolve     Solve a linear tensor equation\n",
            "    - tensorinv       Calculate an inverse of a tensor\n",
            "    \n",
            "    Exceptions:\n",
            "    \n",
            "    - LinAlgError     Indicates a failed linear algebra operation\n",
            "\n",
            "PACKAGE CONTENTS\n",
            "    _umath_linalg\n",
            "    info\n",
            "    lapack_lite\n",
            "    linalg\n",
            "    setup\n",
            "    tests (package)\n",
            "\n",
            "DATA\n",
            "    absolute_import = _Feature((2, 5, 0, 'alpha', 1), (3, 0, 0, 'alpha', 0...\n",
            "    division = _Feature((2, 2, 0, 'alpha', 2), (3, 0, 0, 'alpha', 0), 8192...\n",
            "    print_function = _Feature((2, 6, 0, 'alpha', 2), (3, 0, 0, 'alpha', 0)...\n",
            "    test = <numpy.testing._private.pytesttester.PytestTester object>\n",
            "\n",
            "FILE\n",
            "    c:\\users\\sanskar.agarwal\\anaconda3\\lib\\site-packages\\numpy\\linalg\\__init__.py\n",
            "\n",
            "\n"
          ],
          "name": "stdout"
        }
      ]
    },
    {
      "cell_type": "markdown",
      "metadata": {
        "id": "v86mK58TP25Z"
      },
      "source": [
        "## Additional functions to initialize arrays in NumPy\n",
        "\n",
        "Apart from the methods mentioned above, there are a few more NumPy functions that you can use to create special NumPy arrays:\n",
        "\n",
        "-  `np.full()`: Create a constant array of any number ‘n’\n",
        "-  `np.tile()`: Create a new array by repeating an existing array for a particular number of times\n",
        "-  `np.eye()`: Create an identity matrix of any dimension\n",
        "* ```np.random.random()```: Create array of random numbers between 0 and 1\n",
        "-  `np.random.randint()`: Create a random array of integers within a particular range"
      ]
    },
    {
      "cell_type": "code",
      "metadata": {
        "colab": {
          "base_uri": "https://localhost:8080/"
        },
        "id": "eZs4F3YqP25Z",
        "outputId": "06076269-3d0b-437f-f19d-fda279eb7673"
      },
      "source": [
        "# Creating a 4 x 3 array of 7s using np.full()\n",
        "# The default data type here is int only\n",
        "np.full((4,3), 7)"
      ],
      "execution_count": 32,
      "outputs": [
        {
          "output_type": "execute_result",
          "data": {
            "text/plain": [
              "array([[7, 7, 7],\n",
              "       [7, 7, 7],\n",
              "       [7, 7, 7],\n",
              "       [7, 7, 7]])"
            ]
          },
          "metadata": {
            "tags": []
          },
          "execution_count": 32
        }
      ]
    },
    {
      "cell_type": "code",
      "metadata": {
        "colab": {
          "base_uri": "https://localhost:8080/"
        },
        "id": "77-8ANLGP25a",
        "outputId": "35e7c57f-eb07-4557-fde7-c6589c29b9f5"
      },
      "source": [
        "# Given an array, np.tile() creates a new array by repeating the given array for any number of times that you want\n",
        "# The default data type her is int only\n",
        "arr = ([0, 1, 2])\n",
        "np.tile(arr, 3)"
      ],
      "execution_count": 33,
      "outputs": [
        {
          "output_type": "execute_result",
          "data": {
            "text/plain": [
              "array([0, 1, 2, 0, 1, 2, 0, 1, 2])"
            ]
          },
          "metadata": {
            "tags": []
          },
          "execution_count": 33
        }
      ]
    },
    {
      "cell_type": "code",
      "metadata": {
        "colab": {
          "base_uri": "https://localhost:8080/"
        },
        "id": "mLM9ycNJP25a",
        "outputId": "6407539b-218c-41f1-8ec9-6d71450794b0"
      },
      "source": [
        "# You can also create multidimensional arrays using np.tile()\n",
        "np.tile(arr, (3,2))"
      ],
      "execution_count": 34,
      "outputs": [
        {
          "output_type": "execute_result",
          "data": {
            "text/plain": [
              "array([[0, 1, 2, 0, 1, 2],\n",
              "       [0, 1, 2, 0, 1, 2],\n",
              "       [0, 1, 2, 0, 1, 2]])"
            ]
          },
          "metadata": {
            "tags": []
          },
          "execution_count": 34
        }
      ]
    },
    {
      "cell_type": "code",
      "metadata": {
        "colab": {
          "base_uri": "https://localhost:8080/"
        },
        "id": "b0G8EH5EP25a",
        "outputId": "eac01a5c-72a3-47a9-a2b7-d8dff15f8a4f"
      },
      "source": [
        "# Create a 3 x 3 identity matrix using np.eye()\n",
        "# The default data type here is float. So if we want integer values, we need to specify the dtype to be int\n",
        "np.eye(3, dtype = int)"
      ],
      "execution_count": 35,
      "outputs": [
        {
          "output_type": "execute_result",
          "data": {
            "text/plain": [
              "array([[1, 0, 0],\n",
              "       [0, 1, 0],\n",
              "       [0, 0, 1]])"
            ]
          },
          "metadata": {
            "tags": []
          },
          "execution_count": 35
        }
      ]
    },
    {
      "cell_type": "code",
      "metadata": {
        "colab": {
          "base_uri": "https://localhost:8080/"
        },
        "id": "h3Yxpo0lP25a",
        "outputId": "8dec0120-3d26-4443-f435-d11c44da12b5"
      },
      "source": [
        "# Create a 3 x 3 array of random numbers between 0 and 1\n",
        "np.random.random([3, 4])"
      ],
      "execution_count": 36,
      "outputs": [
        {
          "output_type": "execute_result",
          "data": {
            "text/plain": [
              "array([[0.36692459, 0.80499519, 0.70946741, 0.79192946],\n",
              "       [0.80845815, 0.02918603, 0.69365777, 0.87662173],\n",
              "       [0.90360787, 0.5039474 , 0.79724512, 0.10578572]])"
            ]
          },
          "metadata": {
            "tags": []
          },
          "execution_count": 36
        }
      ]
    },
    {
      "cell_type": "code",
      "metadata": {
        "colab": {
          "base_uri": "https://localhost:8080/"
        },
        "id": "4CBFX8adP25b",
        "outputId": "e08d231e-62bf-4c5e-8d26-948310bf65e0"
      },
      "source": [
        "# Create a 4 x 4 random array of integers ranging from 0 to 9\n",
        "np.random.randint(0, 10, (4,4))"
      ],
      "execution_count": 37,
      "outputs": [
        {
          "output_type": "execute_result",
          "data": {
            "text/plain": [
              "array([[2, 7, 6, 8],\n",
              "       [0, 0, 8, 0],\n",
              "       [1, 1, 7, 8],\n",
              "       [8, 6, 5, 0]])"
            ]
          },
          "metadata": {
            "tags": []
          },
          "execution_count": 37
        }
      ]
    },
    {
      "cell_type": "code",
      "metadata": {
        "id": "jXc7GThZP25b"
      },
      "source": [
        ""
      ],
      "execution_count": null,
      "outputs": []
    }
  ]
}